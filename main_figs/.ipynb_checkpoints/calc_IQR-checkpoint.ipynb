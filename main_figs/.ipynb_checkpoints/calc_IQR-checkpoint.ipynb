{
 "cells": [
  {
   "cell_type": "markdown",
   "metadata": {},
   "source": [
    "### Calculating the IQR for a Monte Carlo ensemble"
   ]
  },
  {
   "cell_type": "code",
   "execution_count": 238,
   "metadata": {},
   "outputs": [],
   "source": [
    "import math\n",
    "import numpy as np\n",
    "import pandas as pd\n",
    "from matplotlib import pyplot as plt\n",
    "from scipy import stats\n",
    "from decimal import *\n",
    "import matplotlib.pyplot as plt"
   ]
  },
  {
   "cell_type": "code",
   "execution_count": 178,
   "metadata": {},
   "outputs": [],
   "source": [
    "R = 8.3145 # gas constant [J/Kmol]"
   ]
  },
  {
   "cell_type": "code",
   "execution_count": 159,
   "metadata": {},
   "outputs": [],
   "source": [
    "# file names and the list of parameters associated with each column\n",
    "names = [\"rutter04ab_X.out\",\"GT95_d_fixed.out\",\"LP92_COH.out\",\"fukuda18_d_fixed.out\"]\n",
    "\n",
    "file_names = {\n",
    "    \"rutter04ab_X.out\":\"run_id chi2(simplified) chi2(original) m Q_dif n Q_dis X X A_dif A_dis\",\n",
    "    \"GT95_d_fixed.out\":\"run_id chi2(simplified) chi2(original) m Q_dif n Q_dis X X X X X A_dif A_dis\",\n",
    "    \"LP92_COH.out\":\"run_id chi2(simplified) chi2(original) r n Q X X X X X X X X X X X X X X A\",\n",
    "    \"fukuda18_d_fixed.out\":\"run_id chi2(simplified) chi2(original) m r_dif Q_dif r_dis n Q_dis X X X X X X X X X X X X X A_dif A_dis\"\n",
    "}\n",
    "file = [[]]*len(file_names)"
   ]
  },
  {
   "cell_type": "code",
   "execution_count": 160,
   "metadata": {},
   "outputs": [],
   "source": [
    "# importing MCMC inversion results\n",
    "for i,name in enumerate(file_names):\n",
    "    file[i] = pd.read_csv(name,delim_whitespace=True,names=list(str.split(file_names[names[i]])))"
   ]
  },
  {
   "cell_type": "code",
   "execution_count": 170,
   "metadata": {},
   "outputs": [],
   "source": [
    "data = [[]]*len(file)\n",
    "for i, df in enumerate(file):\n",
    "    # drop interrun biases\n",
    "    f = df[df.columns.drop(list(df.filter(regex='X')))]\n",
    "    # skip first 1000 runs, then select sample from every 100 runs\n",
    "    data[i] = f.iloc[100:-1:10,:]"
   ]
  },
  {
   "cell_type": "code",
   "execution_count": 222,
   "metadata": {},
   "outputs": [
    {
     "data": {
      "text/plain": [
       "run_id                int64\n",
       "chi2(simplified)    float64\n",
       "chi2(original)      float64\n",
       "m                   float64\n",
       "Q_dif               float64\n",
       "n                   float64\n",
       "Q_dis               float64\n",
       "A_dif               float64\n",
       "A_dis               float64\n",
       "dtype: object"
      ]
     },
     "execution_count": 222,
     "metadata": {},
     "output_type": "execute_result"
    }
   ],
   "source": []
  },
  {
   "cell_type": "code",
   "execution_count": 176,
   "metadata": {},
   "outputs": [
    {
     "data": {
      "text/plain": [
       "'fukuda18_d_fixed.out'"
      ]
     },
     "execution_count": 176,
     "metadata": {},
     "output_type": "execute_result"
    }
   ],
   "source": [
    "def calc_IQR(data, flow_law=\"composite\", C_OH=0, T, V=False):\n",
    "    \"\"\"\n",
    "    Calculates the interquartile range for a given flow law. Default calculation is for a dry composite flow law.\n",
    "    data: inversion result (processed .out file)\n",
    "    flow_law: flow law type (dif, dis, composite)\n",
    "    C_OH: COH/fH2O value to use for normalization. If value is 0, assume flow law is dry.\n",
    "    T: Temperature [K]\n",
    "    V: Include activation volume (not implemented)\n",
    "    \"\"\"\n",
    "    refE = 1e-15;\n",
    "    R = 8.3145;\n",
    "    if (flow_law=\"composite\"):\n",
    "        if (COH):\n",
    "            pass\n",
    "        else:\n",
    "            pass\n",
    "    elif (flow_law=\"dif\"):\n",
    "        if (COH):\n",
    "            pass\n",
    "        else:\n",
    "            pass\n",
    "    elif (flow_law=\"dis\"):\n",
    "        if (COH):\n",
    "            pass\n",
    "        else:\n",
    "            pass\n",
    "    else:\n",
    "        return \"Flow law not supported.\""
   ]
  },
  {
   "cell_type": "code",
   "execution_count": 193,
   "metadata": {},
   "outputs": [],
   "source": [
    "%store -r z\n",
    "%store -r T\n",
    "%store -r data_P\n",
    "present_day = data_P[0]\n",
    "P_diff_present = [i[0] for i in present_day]\n",
    "cc_present = [i[1] for i in present_day]\n",
    "sigma = np.array(P_diff_present) # differential pressure [MPa]\n",
    "depth = 11"
   ]
  },
  {
   "cell_type": "code",
   "execution_count": 197,
   "metadata": {},
   "outputs": [
    {
     "data": {
      "text/plain": [
       "array([  0,  18,  18,  17,  16,  16,  15,  15,  14,  10,   6,   1,  -3,\n",
       "        -7, -11, -15, -20, -24, -28, -32, -37, -41, -45, -49, -53, -59,\n",
       "       -63, -67, -71, -75, -80, -79, -78, -78, -78, -77, -76, -76, -75,\n",
       "       -75, -74, -74, -73, -72, -72, -72, -71, -70, -70, -70, -69, -68,\n",
       "       -67, -68, -67, -66, -65, -66, -65, -64, -63, -63, -63, -62, -61,\n",
       "       -62, -61, -61, -60, -60, -60, -59, -58, -59, -58, -58, -57, -57,\n",
       "       -57, -56, -55, -56, -55, -55, -54, -54, -54, -53, -52, -53, -52,\n",
       "       -52, -52, -51, -51, -50, -50, -50, -49, -49, -49, -48, -48, -47,\n",
       "       -47, -47, -46, -46, -46, -45, -45, -44, -44, -44, -43, -43, -43,\n",
       "       -42, -42, -41, -41, -41, -40, -40, -40, -39, -39, -38, -38, -38,\n",
       "       -37, -36, -37, -36, -36, -35, -35, -35, -34, -33, -34, -33, -33,\n",
       "       -32, -32, -32, -31, -30, -31, -30, -30, -30, -29, -29, -28, -28,\n",
       "       -28, -27, -27, -27, -26, -26, -25, -25, -25, -24, -24, -24, -23,\n",
       "       -23, -22, -22, -22, -21, -21, -21, -20, -20, -19, -19, -19, -18,\n",
       "       -18, -18, -17, -17, -16, -16, -16, -15, -14, -15, -14, -14, -13,\n",
       "       -13, -13, -12, -11, -12, -11, -11, -10, -10, -10,  -9,  -8,  -9,\n",
       "        -8,  -8,  -8,  -7,  -7,  -6,  -6,  -6,  -5,  -5,  -5,  -4,  -4,\n",
       "        -3,  -3,  -3,  -2,  -2,  -2,  -1,  -1,   0,   0])"
      ]
     },
     "execution_count": 197,
     "metadata": {},
     "output_type": "execute_result"
    }
   ],
   "source": [
    "sigma[0]"
   ]
  },
  {
   "cell_type": "code",
   "execution_count": 313,
   "metadata": {},
   "outputs": [],
   "source": [
    "depth = 11\n",
    "e = [[]]*depth\n",
    "for i in range(depth):\n",
    "    e[i] = np.array(data[0]['A_dis'])*(sigma[0][i])**np.array(data[0]['n'])*np.exp(-np.array(data[0]['Q_dis'])/(R*T[i]))"
   ]
  },
  {
   "cell_type": "code",
   "execution_count": 330,
   "metadata": {},
   "outputs": [],
   "source": [
    "e_med = [np.median(i) for i in e]\n",
    "e_mean = [np.mean(i) for i in e]\n",
    "e_25 = [np.percentile(i,25) for i in e]\n",
    "e_75 = [np.percentile(i,75) for i in e]"
   ]
  },
  {
   "cell_type": "code",
   "execution_count": 331,
   "metadata": {},
   "outputs": [
    {
     "data": {
      "image/png": "[encoded data removed]",
      "text/plain": [
       "<Figure size 360x504 with 1 Axes>"
      ]
     },
     "metadata": {
      "needs_background": "light"
     },
     "output_type": "display_data"
    }
   ],
   "source": [
    "plt.figure(figsize=(5,7))\n",
    "plt.semilogx(e_med,-z[:depth]/1000)\n",
    "plt.semilogx(e_mean,-z[:depth]/1000)\n",
    "plt.semilogx(e_25,-z[:depth]/1000)\n",
    "plt.semilogx(e_75,-z[:depth]/1000)\n",
    "plt.ylim(-10,0)\n",
    "plt.show()"
   ]
  },
  {
   "cell_type": "code",
   "execution_count": null,
   "metadata": {},
   "outputs": [],
   "source": []
  },
  {
   "cell_type": "code",
   "execution_count": null,
   "metadata": {},
   "outputs": [],
   "source": []
  }
 ],
 "metadata": {
  "kernelspec": {
   "display_name": "Python 3",
   "language": "python",
   "name": "python3"
  },
  "language_info": {
   "codemirror_mode": {
    "name": "ipython",
    "version": 3
   },
   "file_extension": ".py",
   "mimetype": "text/x-python",
   "name": "python",
   "nbconvert_exporter": "python",
   "pygments_lexer": "ipython3",
   "version": "3.6.8"
  }
 },
 "nbformat": 4,
 "nbformat_minor": 2
}
